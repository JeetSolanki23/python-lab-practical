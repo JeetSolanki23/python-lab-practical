{
 "cells": [
  {
   "cell_type": "markdown",
   "metadata": {},
   "source": [
    "Prectical 9.1"
   ]
  },
  {
   "cell_type": "code",
   "execution_count": 1,
   "metadata": {},
   "outputs": [
    {
     "name": "stdout",
     "output_type": "stream",
     "text": [
      "Initial Values:\n",
      "Name: John Doe\n",
      "Roll Number: 101\n",
      "Age: 20\n",
      "Grade: A\n",
      "Department: Computer Science\n",
      "\n",
      "Updated Values:\n",
      "Name: Jane Smith\n",
      "Roll Number: 102\n",
      "Age: 21\n",
      "Grade: B\n",
      "Department: Electrical Engineering\n"
     ]
    }
   ],
   "source": [
    "class Student:\n",
    "    def __init__(self, name, roll_number, age, grade, department):\n",
    "        self.name = name\n",
    "        self.roll_number = roll_number\n",
    "        self.age = age\n",
    "        self.grade = grade\n",
    "        self.department = department\n",
    "\n",
    "    # Method to set values\n",
    "    def set_values(self, name, roll_number, age, grade, department):\n",
    "        self.name = name\n",
    "        self.roll_number = roll_number\n",
    "        self.age = age\n",
    "        self.grade = grade\n",
    "        self.department = department\n",
    "\n",
    "    # Method to get values\n",
    "    def get_values(self):\n",
    "        return self.name, self.roll_number, self.age, self.grade, self.department\n",
    "\n",
    "\n",
    "# Create an instance of the Student class\n",
    "student1 = Student(\"John Doe\", 101, 20, 'A', 'Computer Science')\n",
    "\n",
    "# Display initial values\n",
    "print(\"Initial Values:\")\n",
    "print(\"Name:\", student1.name)\n",
    "print(\"Roll Number:\", student1.roll_number)\n",
    "print(\"Age:\", student1.age)\n",
    "print(\"Grade:\", student1.grade)\n",
    "print(\"Department:\", student1.department)\n",
    "\n",
    "# Set new values\n",
    "student1.set_values(\"Jane Smith\", 102, 21, 'B', 'Electrical Engineering')\n",
    "\n",
    "# Display updated values\n",
    "print(\"\\nUpdated Values:\")\n",
    "name, roll_number, age, grade, department = student1.get_values()\n",
    "print(\"Name:\", name)\n",
    "print(\"Roll Number:\", roll_number)\n",
    "print(\"Age:\", age)\n",
    "print(\"Grade:\", grade)\n",
    "print(\"Department:\", department)\n"
   ]
  },
  {
   "cell_type": "markdown",
   "metadata": {},
   "source": [
    "Prectical 9.2"
   ]
  },
  {
   "cell_type": "code",
   "execution_count": 2,
   "metadata": {},
   "outputs": [
    {
     "name": "stdout",
     "output_type": "stream",
     "text": [
      "Student Details:\n",
      "Roll Number: 1\n",
      "Name: John\n",
      "Age: 20\n",
      "Total Marks: 95\n",
      "\n",
      "Roll Number: 2\n",
      "Name: Jane\n",
      "Age: 21\n",
      "Total Marks: 85\n",
      "\n",
      "Roll Number: 3\n",
      "Name: Doe\n",
      "Age: 22\n",
      "Total Marks: 95\n",
      "\n",
      "Roll Number: 4\n",
      "Name: Smith\n",
      "Age: 20\n",
      "Total Marks: 85\n",
      "\n",
      "No students with same total marks.\n"
     ]
    }
   ],
   "source": [
    "class Student:\n",
    "    def __init__(self, roll_no, name, age, total_marks):\n",
    "        self.roll_no = roll_no\n",
    "        self.name = name\n",
    "        self.age = age\n",
    "        self.total_marks = total_marks\n",
    "\n",
    "    def read_data(self):\n",
    "        self.roll_no = int(input(\"Enter Roll Number: \"))\n",
    "        self.name = input(\"Enter Name: \")\n",
    "        self.age = int(input(\"Enter Age: \"))\n",
    "        self.total_marks = float(input(\"Enter Total Marks: \"))\n",
    "\n",
    "    def display_data(self):\n",
    "        print(\"Roll Number:\", self.roll_no)\n",
    "        print(\"Name:\", self.name)\n",
    "        print(\"Age:\", self.age)\n",
    "        print(\"Total Marks:\", self.total_marks)\n",
    "\n",
    "    def __eq__(self, other):\n",
    "        return self.total_marks == other.total_marks\n",
    "\n",
    "\n",
    "# Function to print details of students with same total marks\n",
    "def print_students_with_same_marks(students):\n",
    "    unique_marks = set(student.total_marks for student in students)\n",
    "    for mark in unique_marks:\n",
    "        same_marks_students = [student for student in students if student.total_marks == mark]\n",
    "        if len(same_marks_students) > 1:\n",
    "            print(\"Students with total marks\", mark, \":\")\n",
    "            for student in same_marks_students:\n",
    "                student.display_data()\n",
    "            print()\n",
    "\n",
    "\n",
    "# Creating instances of Student class\n",
    "student1 = Student(1, \"John\", 20, 95)\n",
    "student2 = Student(2, \"Jane\", 21, 85)\n",
    "student3 = Student(3, \"Doe\", 22, 95)\n",
    "student4 = Student(4, \"Smith\", 20, 85)\n",
    "\n",
    "# Displaying student details\n",
    "print(\"Student Details:\")\n",
    "student1.display_data()\n",
    "print()\n",
    "student2.display_data()\n",
    "print()\n",
    "student3.display_data()\n",
    "print()\n",
    "student4.display_data()\n",
    "print()\n",
    "\n",
    "# Overloading '==' operator to print details of students having same marks\n",
    "if student1 == student2:\n",
    "    print(\"Details of students with same total marks:\")\n",
    "    print_students_with_same_marks([student1, student2])\n",
    "else:\n",
    "    print(\"No students with same total marks.\")\n",
    "\n"
   ]
  },
  {
   "cell_type": "markdown",
   "metadata": {},
   "source": [
    "Prectical 9.3"
   ]
  },
  {
   "cell_type": "code",
   "execution_count": 3,
   "metadata": {},
   "outputs": [
    {
     "name": "stdout",
     "output_type": "stream",
     "text": [
      "Method 1 from ParentClass1\n",
      "Method 2 from ParentClass2\n",
      "Method 3 from ChildClass\n"
     ]
    }
   ],
   "source": [
    "# Parent class 1\n",
    "class ParentClass1:\n",
    "    def method1(self):\n",
    "        print(\"Method 1 from ParentClass1\")\n",
    "\n",
    "\n",
    "# Parent class 2\n",
    "class ParentClass2:\n",
    "    def method2(self):\n",
    "        print(\"Method 2 from ParentClass2\")\n",
    "\n",
    "\n",
    "# Child class inheriting from both ParentClass1 and ParentClass2\n",
    "class ChildClass(ParentClass1, ParentClass2):\n",
    "    def method3(self):\n",
    "        print(\"Method 3 from ChildClass\")\n",
    "\n",
    "\n",
    "# Creating an instance of ChildClass\n",
    "child_obj = ChildClass()\n",
    "\n",
    "# Calling methods from both parent classes\n",
    "child_obj.method1()\n",
    "child_obj.method2()\n",
    "\n",
    "# Calling method from child class\n",
    "child_obj.method3()\n"
   ]
  }
 ],
 "metadata": {
  "kernelspec": {
   "display_name": "Python 3",
   "language": "python",
   "name": "python3"
  },
  "language_info": {
   "codemirror_mode": {
    "name": "ipython",
    "version": 3
   },
   "file_extension": ".py",
   "mimetype": "text/x-python",
   "name": "python",
   "nbconvert_exporter": "python",
   "pygments_lexer": "ipython3",
   "version": "3.11.5"
  }
 },
 "nbformat": 4,
 "nbformat_minor": 2
}
