{
 "cells": [
  {
   "cell_type": "markdown",
   "metadata": {},
   "source": [
    "Prectical 10.1"
   ]
  },
  {
   "cell_type": "code",
   "execution_count": 1,
   "metadata": {},
   "outputs": [],
   "source": [
    "import tkinter as tk\n",
    "\n",
    "# Function to display label\n",
    "def display_label():\n",
    "    label.config(text=\"Button Clicked!\")\n",
    "\n",
    "# Create a new Tkinter window\n",
    "window = tk.Tk()\n",
    "\n",
    "# Set the title of the window\n",
    "window.title(\"Button Click Example\")\n",
    "\n",
    "# Set the window size\n",
    "window.geometry(\"300x200\")\n",
    "\n",
    "# Create a label widget\n",
    "label = tk.Label(window, text=\"\")\n",
    "\n",
    "# Create a push button widget\n",
    "button = tk.Button(window, text=\"Click Me\", command=display_label)\n",
    "\n",
    "# Pack the label and button widgets into the window\n",
    "label.pack()\n",
    "button.pack()\n",
    "\n",
    "# Run the Tkinter event loop\n",
    "window.mainloop()\n"
   ]
  },
  {
   "cell_type": "markdown",
   "metadata": {},
   "source": [
    "Prectical 10.2"
   ]
  },
  {
   "cell_type": "code",
   "execution_count": 2,
   "metadata": {},
   "outputs": [],
   "source": [
    "import tkinter as tk\n",
    "\n",
    "# Function to toggle button visibility\n",
    "def toggle_button():\n",
    "    if button2.winfo_viewable():\n",
    "        button2.pack_forget()  # Hide button2\n",
    "    else:\n",
    "        button2.pack()  # Show button2\n",
    "\n",
    "# Create a new Tkinter window\n",
    "window = tk.Tk()\n",
    "\n",
    "# Set the title of the window\n",
    "window.title(\"Toggle Buttons\")\n",
    "\n",
    "# Create button1\n",
    "button1 = tk.Button(window, text=\"Button 1\", command=toggle_button)\n",
    "button1.pack()\n",
    "\n",
    "# Create button2 initially hidden\n",
    "button2 = tk.Button(window, text=\"Button 2\", command=toggle_button)\n",
    "button2.pack_forget()\n",
    "\n",
    "# Run the Tkinter event loop\n",
    "window.mainloop()\n"
   ]
  },
  {
   "cell_type": "markdown",
   "metadata": {},
   "source": [
    "Prectical 10.3"
   ]
  },
  {
   "cell_type": "code",
   "execution_count": 3,
   "metadata": {},
   "outputs": [],
   "source": [
    "import tkinter as tk\n",
    "from tkinter import messagebox\n",
    "\n",
    "# Function to display message box\n",
    "def display_message():\n",
    "    messagebox.showinfo(\"Message\", \"Thank you for clicking\")\n",
    "\n",
    "# Create a new Tkinter window\n",
    "window = tk.Tk()\n",
    "\n",
    "# Set the title of the window\n",
    "window.title(\"Button Example\")\n",
    "\n",
    "# Set the window size\n",
    "window.geometry(\"200x100\")\n",
    "\n",
    "# Create a button widget\n",
    "button = tk.Button(window, text=\"Click Here\", command=display_message)\n",
    "\n",
    "# Place the button at coordinates (20, 100)\n",
    "button.place(x=20, y=50)\n",
    "\n",
    "# Run the Tkinter event loop\n",
    "window.mainloop()\n"
   ]
  },
  {
   "cell_type": "markdown",
   "metadata": {},
   "source": [
    "Prectical 10.4"
   ]
  },
  {
   "cell_type": "code",
   "execution_count": 4,
   "metadata": {},
   "outputs": [],
   "source": [
    "import tkinter as tk\n",
    "\n",
    "# Function to change frame background color\n",
    "def change_color(color):\n",
    "    frame.config(bg=color)\n",
    "\n",
    "# Create a new Tkinter window\n",
    "window = tk.Tk()\n",
    "\n",
    "# Set the title of the window\n",
    "window.title(\"Change Background Color\")\n",
    "\n",
    "# Create a frame widget\n",
    "frame = tk.Frame(window, width=200, height=100)\n",
    "\n",
    "# Create three push buttons with different colors\n",
    "button1 = tk.Button(window, text=\"Red\", command=lambda: change_color(\"red\"))\n",
    "button2 = tk.Button(window, text=\"Green\", command=lambda: change_color(\"green\"))\n",
    "button3 = tk.Button(window, text=\"Blue\", command=lambda: change_color(\"blue\"))\n",
    "\n",
    "# Pack the frame and buttons\n",
    "frame.pack(expand=True, fill=tk.BOTH)\n",
    "button1.pack(side=tk.LEFT)\n",
    "button2.pack(side=tk.LEFT)\n",
    "button3.pack(side=tk.LEFT)\n",
    "\n",
    "# Run the Tkinter event loop\n",
    "window.mainloop()\n"
   ]
  },
  {
   "cell_type": "markdown",
   "metadata": {},
   "source": [
    "Prectical 10.5"
   ]
  },
  {
   "cell_type": "code",
   "execution_count": 5,
   "metadata": {},
   "outputs": [],
   "source": [
    "import tkinter as tk\n",
    "\n",
    "# Function to handle button click event\n",
    "def on_button_click():\n",
    "    label.config(text=\"Button Clicked!\")\n",
    "\n",
    "# Create a new Tkinter window\n",
    "window = tk.Tk()\n",
    "\n",
    "# Set the title of the window\n",
    "window.title(\"Button Click Event\")\n",
    "\n",
    "# Create a label widget\n",
    "label = tk.Label(window, text=\"\")\n",
    "\n",
    "# Create a button widget\n",
    "button = tk.Button(window, text=\"Click Me\", command=on_button_click)\n",
    "\n",
    "# Pack the label and button widgets into the window\n",
    "label.pack()\n",
    "button.pack()\n",
    "\n",
    "# Run the Tkinter event loop\n",
    "window.mainloop()\n"
   ]
  }
 ],
 "metadata": {
  "kernelspec": {
   "display_name": "Python 3",
   "language": "python",
   "name": "python3"
  },
  "language_info": {
   "codemirror_mode": {
    "name": "ipython",
    "version": 3
   },
   "file_extension": ".py",
   "mimetype": "text/x-python",
   "name": "python",
   "nbconvert_exporter": "python",
   "pygments_lexer": "ipython3",
   "version": "3.11.5"
  }
 },
 "nbformat": 4,
 "nbformat_minor": 2
}
